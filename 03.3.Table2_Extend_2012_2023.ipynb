{
 "cells": [
  {
   "cell_type": "code",
   "execution_count": 1,
   "metadata": {
    "collapsed": true
   },
   "outputs": [],
   "source": [
    "import warnings\n",
    "import pandas as pd\n",
    "import numpy as np\n",
    "import statsmodels.api as sm\n",
    "warnings.filterwarnings('ignore')"
   ]
  },
  {
   "cell_type": "code",
   "execution_count": 2,
   "outputs": [],
   "source": [
    "start_y = 2012\n",
    "end_y = 2023\n",
    "split_y = 2017"
   ],
   "metadata": {
    "collapsed": false
   }
  },
  {
   "cell_type": "code",
   "execution_count": 3,
   "outputs": [],
   "source": [
    "data = pd.read_csv('./data/master_data.csv')\n",
    "data = data.loc[(data['fyear'] >= start_y) & (data['fyear'] <= end_y)]\n",
    "data = data.dropna(subset=['rev', 'exp_lag', 'exp_lead', 'cogs', 'sga', 'depr', 'tax', 'si', 'oth'])"
   ],
   "metadata": {
    "collapsed": false
   }
  },
  {
   "cell_type": "code",
   "execution_count": 4,
   "outputs": [],
   "source": [
    "# Coefficients\n",
    "results = pd.DataFrame(columns=['cogs', 'sga', 'depr', 'tax', 'si', 'oth'])\n",
    "\n",
    "\n",
    "for year, group in data.groupby('fyear'):\n",
    "    X = group[['exp_lag', 'cogs', 'sga', 'depr', 'tax', 'si', 'oth', 'exp_lead']]\n",
    "    X = sm.add_constant(X)\n",
    "    y = group['rev']\n",
    "\n",
    "    model = sm.OLS(y, X).fit()\n",
    "    coef = model.params\n",
    "\n",
    "    result = pd.DataFrame(\n",
    "        {\n",
    "            'cogs': coef['cogs'],\n",
    "            'sga': coef['sga'],\n",
    "            'depr': coef['depr'],\n",
    "            'tax': coef['tax'],\n",
    "            'si': coef['si'],\n",
    "            'oth': coef['oth']\n",
    "        },\n",
    "        index=[year]\n",
    "    )\n",
    "    results = pd.concat([results, result])\n",
    "\n",
    "\n",
    "results = results.reset_index(names='year')"
   ],
   "metadata": {
    "collapsed": false
   }
  },
  {
   "cell_type": "code",
   "execution_count": 5,
   "outputs": [
    {
     "data": {
      "text/plain": "                cogs       sga      depr       tax        si       oth\n0           0.440908  0.659121  0.645848  1.547493  0.187052  0.152747\n1           0.401987  0.656774  0.532957  2.335698 -0.000661  0.196790\ndifference -0.038921 -0.002347 -0.112891  0.788205 -0.187714  0.044043",
      "text/html": "<div>\n<style scoped>\n    .dataframe tbody tr th:only-of-type {\n        vertical-align: middle;\n    }\n\n    .dataframe tbody tr th {\n        vertical-align: top;\n    }\n\n    .dataframe thead th {\n        text-align: right;\n    }\n</style>\n<table border=\"1\" class=\"dataframe\">\n  <thead>\n    <tr style=\"text-align: right;\">\n      <th></th>\n      <th>cogs</th>\n      <th>sga</th>\n      <th>depr</th>\n      <th>tax</th>\n      <th>si</th>\n      <th>oth</th>\n    </tr>\n  </thead>\n  <tbody>\n    <tr>\n      <th>0</th>\n      <td>0.440908</td>\n      <td>0.659121</td>\n      <td>0.645848</td>\n      <td>1.547493</td>\n      <td>0.187052</td>\n      <td>0.152747</td>\n    </tr>\n    <tr>\n      <th>1</th>\n      <td>0.401987</td>\n      <td>0.656774</td>\n      <td>0.532957</td>\n      <td>2.335698</td>\n      <td>-0.000661</td>\n      <td>0.196790</td>\n    </tr>\n    <tr>\n      <th>difference</th>\n      <td>-0.038921</td>\n      <td>-0.002347</td>\n      <td>-0.112891</td>\n      <td>0.788205</td>\n      <td>-0.187714</td>\n      <td>0.044043</td>\n    </tr>\n  </tbody>\n</table>\n</div>"
     },
     "execution_count": 5,
     "metadata": {},
     "output_type": "execute_result"
    }
   ],
   "source": [
    "coefficients = pd.DataFrame(columns=['cogs', 'sga', 'depr', 'tax', 'si', 'oth'])\n",
    "coefficients = pd.concat([coefficients, results.loc[results['year'] <= split_y, ['cogs', 'sga', 'depr', 'tax', 'si', 'oth']].mean().to_frame().T], ignore_index=True)\n",
    "coefficients = pd.concat([coefficients, results.loc[results['year'] >= split_y + 1, ['cogs', 'sga', 'depr', 'tax', 'si', 'oth']].mean().to_frame().T], ignore_index=True)\n",
    "coefficients.loc['difference'] = coefficients.iloc[1] - coefficients.iloc[0]\n",
    "\n",
    "coefficients"
   ],
   "metadata": {
    "collapsed": false
   }
  },
  {
   "cell_type": "code",
   "execution_count": 6,
   "outputs": [],
   "source": [
    "weight = []\n",
    "for year, group in data.groupby('fyear'):\n",
    "    exp_var = group['exp'].var(ddof=0)\n",
    "    row = {'fyear': year}\n",
    "    for component in ['cogs', 'sga', 'depr', 'tax', 'si', 'oth']:\n",
    "        cov = group[['exp', component]].cov().iloc[0, 1]\n",
    "        w = cov / exp_var if exp_var != 0 else None\n",
    "        row[component] = w\n",
    "    weight.append(row)\n",
    "\n",
    "weight = pd.DataFrame(weight)\n",
    "weight['total'] = weight[['cogs', 'sga', 'depr', 'tax', 'si', 'oth']].sum(axis=1)\n",
    "weight[['cogs', 'sga', 'depr', 'tax', 'si', 'oth']] = weight[['cogs', 'sga', 'depr', 'tax', 'si', 'oth']].div(weight['total'], axis=0)"
   ],
   "metadata": {
    "collapsed": false
   }
  },
  {
   "cell_type": "code",
   "execution_count": 7,
   "outputs": [
    {
     "data": {
      "text/plain": "                cogs       sga      depr       tax        si       oth\n0           0.856555  0.116833  0.010248  0.011160  0.004461  0.000743\n1           0.861917  0.110135  0.010984  0.007924  0.008628  0.000412\ndifference  0.005362 -0.006698  0.000736 -0.003235  0.004168 -0.000332",
      "text/html": "<div>\n<style scoped>\n    .dataframe tbody tr th:only-of-type {\n        vertical-align: middle;\n    }\n\n    .dataframe tbody tr th {\n        vertical-align: top;\n    }\n\n    .dataframe thead th {\n        text-align: right;\n    }\n</style>\n<table border=\"1\" class=\"dataframe\">\n  <thead>\n    <tr style=\"text-align: right;\">\n      <th></th>\n      <th>cogs</th>\n      <th>sga</th>\n      <th>depr</th>\n      <th>tax</th>\n      <th>si</th>\n      <th>oth</th>\n    </tr>\n  </thead>\n  <tbody>\n    <tr>\n      <th>0</th>\n      <td>0.856555</td>\n      <td>0.116833</td>\n      <td>0.010248</td>\n      <td>0.011160</td>\n      <td>0.004461</td>\n      <td>0.000743</td>\n    </tr>\n    <tr>\n      <th>1</th>\n      <td>0.861917</td>\n      <td>0.110135</td>\n      <td>0.010984</td>\n      <td>0.007924</td>\n      <td>0.008628</td>\n      <td>0.000412</td>\n    </tr>\n    <tr>\n      <th>difference</th>\n      <td>0.005362</td>\n      <td>-0.006698</td>\n      <td>0.000736</td>\n      <td>-0.003235</td>\n      <td>0.004168</td>\n      <td>-0.000332</td>\n    </tr>\n  </tbody>\n</table>\n</div>"
     },
     "execution_count": 7,
     "metadata": {},
     "output_type": "execute_result"
    }
   ],
   "source": [
    "weights = pd.DataFrame(columns=['cogs', 'sga', 'depr', 'tax', 'si', 'oth'])\n",
    "weights = pd.concat([weights, weight.loc[weight['fyear'] <= split_y, ['cogs', 'sga', 'depr', 'tax', 'si', 'oth']].mean().to_frame().T], ignore_index=True)\n",
    "weights = pd.concat([weights, weight.loc[weight['fyear'] >= split_y + 1, ['cogs', 'sga', 'depr', 'tax', 'si', 'oth']].mean().to_frame().T], ignore_index=True)\n",
    "weights.loc['difference'] = weights.iloc[1] - weights.iloc[0]\n",
    "\n",
    "weights"
   ],
   "metadata": {
    "collapsed": false
   }
  }
 ],
 "metadata": {
  "kernelspec": {
   "display_name": "Python 3",
   "language": "python",
   "name": "python3"
  },
  "language_info": {
   "codemirror_mode": {
    "name": "ipython",
    "version": 2
   },
   "file_extension": ".py",
   "mimetype": "text/x-python",
   "name": "python",
   "nbconvert_exporter": "python",
   "pygments_lexer": "ipython2",
   "version": "2.7.6"
  }
 },
 "nbformat": 4,
 "nbformat_minor": 0
}
