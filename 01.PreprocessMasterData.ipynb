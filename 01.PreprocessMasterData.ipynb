{
 "cells": [
  {
   "cell_type": "code",
   "execution_count": 1,
   "metadata": {
    "collapsed": true
   },
   "outputs": [],
   "source": [
    "import pandas as pd\n",
    "import numpy as np"
   ]
  },
  {
   "cell_type": "code",
   "execution_count": 2,
   "outputs": [],
   "source": [
    "data = pd.read_pickle('./data/raw_data.pkl', compression='zip')"
   ],
   "metadata": {
    "collapsed": false
   }
  },
  {
   "cell_type": "code",
   "execution_count": 3,
   "outputs": [],
   "source": [
    "# Filter: Drop companies whose cogs, xsga, txt and oiadp are missing\n",
    "data = data.dropna(subset=['cogs', 'xsga', 'txt', 'oiadp'])\n",
    "# Filter: Top 1000 companies by total assets\n",
    "data = data.sort_values(['fyear', 'at'], ascending=[True, False]).groupby('fyear').head(1000)\n",
    "# Filter: We have set the condition that indfmt = 'INDL' in the sql query"
   ],
   "metadata": {
    "collapsed": false
   }
  },
  {
   "cell_type": "code",
   "execution_count": 4,
   "outputs": [],
   "source": [
    "# Calculation: exp = (sale - ib) / at\n",
    "# rev = sale / at\n",
    "# earn = rev - exp\n",
    "# cogs, sga, depr, tax, oiadp, si = ~.x/at\n",
    "# oth = exp - cogs - sga - depr - tax - si\n",
    "# depr equals 0 if missing\n",
    "# si_indicator = 1 if si >= 0.01, otherwise 0\n",
    "data['exp'] = (data['sale'] - data['ib']) / data['at']\n",
    "data['rev'] = data['sale'] / data['at']\n",
    "data['earn'] = data['rev'] - data['exp']\n",
    "data[['cogs', 'sga', 'depr', 'tax', 'oiadp', 'si']] = data[['cogs', 'xsga', 'dp', 'txt', 'oiadp', 'spi']].div(data['at'], axis=0)\n",
    "data['si'] = -data['si']\n",
    "data['oth'] = data['exp'] - data['cogs'] - data['sga'] - data['depr'] - data['tax'] - data['si']\n",
    "data.loc[data['depr'].isna(), 'depr'] = 0\n",
    "data['si_indicator'] = np.where(data['si'] >= 0.01, 1, 0)"
   ],
   "metadata": {
    "collapsed": false
   }
  },
  {
   "cell_type": "code",
   "execution_count": 5,
   "outputs": [],
   "source": [
    "data = data.sort_values(['gvkey', 'fyear'])\n",
    "# Calculation: Average 2-year revenue\n",
    "data['avg_2yr_rev'] = data.groupby('gvkey')['rev'].rolling(window=2).mean().reset_index(level=0, drop=True)\n",
    "# Calculation: 10-year volat of 2-year revenue\n",
    "data['rev_10yr_volat'] = data.groupby('gvkey')['avg_2yr_rev'].rolling(window=10).std().reset_index(level=0, drop=True)\n",
    "# Calculation: Average 2-year expense\n",
    "data['avg_2yr_exp'] = data.groupby('gvkey')['exp'].rolling(window=2).mean().reset_index(level=0, drop=True)\n",
    "# Calculation: 10-year volat of 2-year expense\n",
    "data['exp_10yr_volat'] = data.groupby('gvkey')['avg_2yr_exp'].rolling(window=10).std().reset_index(level=0, drop=True)\n",
    "# Calculation: Average 2-year earnings\n",
    "data['avg_2yr_earn'] = data.groupby('gvkey')['earn'].rolling(window=2).mean().reset_index(level=0, drop=True)\n",
    "# Calculation: 5-year and 10-year volat of 2-year earnings\n",
    "data['earn_5yr_volat'] = data.groupby('gvkey')['earn'].rolling(window=5).std().reset_index(level=0, drop=True)\n",
    "data['earn_10yr_volat'] = data.groupby('gvkey')['avg_2yr_earn'].rolling(window=10).std().reset_index(level=0, drop=True)\n",
    "# Calculation: Last-year expense, next-year expense and last-year earnings\n",
    "data['earn_lag'] = data.groupby('gvkey')['earn'].shift(1)\n",
    "data['exp_lag'] = data.groupby('gvkey')['exp'].shift(1)\n",
    "data['exp_lead'] = data.groupby('gvkey')['exp'].shift(-1)"
   ],
   "metadata": {
    "collapsed": false
   }
  },
  {
   "cell_type": "code",
   "execution_count": 6,
   "outputs": [],
   "source": [
    "# Winsorization: 1%\n",
    "vars_winsor = [\n",
    "    'avg_2yr_rev', 'avg_2yr_exp', 'avg_2yr_earn',\n",
    "    'rev_10yr_volat', 'exp_10yr_volat', 'earn_5yr_volat', 'earn_10yr_volat',\n",
    "    'rev', 'exp', 'exp_lag', 'exp_lead', 'earn', 'earn_lag'\n",
    "]\n",
    "def winsorize(group):\n",
    "    for var in vars_winsor:\n",
    "        q_low = group[var].quantile(0.01)\n",
    "        q_high = group[var].quantile(0.99)\n",
    "        group[var] = group[var].clip(q_low, q_high)\n",
    "    return group\n",
    "data = data.groupby('fyear').apply(winsorize).reset_index(drop=True)"
   ],
   "metadata": {
    "collapsed": false
   }
  },
  {
   "cell_type": "code",
   "execution_count": 7,
   "outputs": [
    {
     "data": {
      "text/plain": "69537"
     },
     "execution_count": 7,
     "metadata": {},
     "output_type": "execute_result"
    }
   ],
   "source": [
    "len(data)"
   ],
   "metadata": {
    "collapsed": false
   }
  },
  {
   "cell_type": "code",
   "execution_count": 8,
   "outputs": [],
   "source": [
    "# Filter: Keep the obs. with 2-year average earnings, 5-year and 10-year earnings volatility\n",
    "data = data.dropna(subset=['avg_2yr_earn', 'earn_5yr_volat', 'earn_10yr_volat'])"
   ],
   "metadata": {
    "collapsed": false
   }
  },
  {
   "cell_type": "code",
   "execution_count": 9,
   "outputs": [],
   "source": [
    "# Select variables\n",
    "data = data[['gvkey', 'fyear', 'at', 'rev', 'exp', 'exp_lag', 'exp_lead', 'earn', 'earn_lag', 'avg_2yr_rev', 'avg_2yr_exp', 'avg_2yr_earn', 'rev_10yr_volat', 'exp_10yr_volat', 'earn_5yr_volat', 'earn_10yr_volat', 'cogs', 'sga', 'depr', 'tax', 'si', 'si_indicator', 'oiadp', 'oth']]"
   ],
   "metadata": {
    "collapsed": false
   }
  },
  {
   "cell_type": "code",
   "execution_count": 10,
   "outputs": [],
   "source": [
    "data.to_csv('./data/master_data.csv', index=False)"
   ],
   "metadata": {
    "collapsed": false
   }
  }
 ],
 "metadata": {
  "kernelspec": {
   "display_name": "Python 3",
   "language": "python",
   "name": "python3"
  },
  "language_info": {
   "codemirror_mode": {
    "name": "ipython",
    "version": 2
   },
   "file_extension": ".py",
   "mimetype": "text/x-python",
   "name": "python",
   "nbconvert_exporter": "python",
   "pygments_lexer": "ipython2",
   "version": "2.7.6"
  }
 },
 "nbformat": 4,
 "nbformat_minor": 0
}
