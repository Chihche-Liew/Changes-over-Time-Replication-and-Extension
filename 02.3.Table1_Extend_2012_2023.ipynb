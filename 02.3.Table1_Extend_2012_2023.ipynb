{
 "cells": [
  {
   "cell_type": "code",
   "execution_count": 1,
   "metadata": {
    "collapsed": true
   },
   "outputs": [],
   "source": [
    "import warnings\n",
    "import pandas as pd\n",
    "import numpy as np\n",
    "import statsmodels.api as sm\n",
    "from scipy.stats import ttest_ind\n",
    "warnings.filterwarnings('ignore')"
   ]
  },
  {
   "cell_type": "code",
   "execution_count": 2,
   "outputs": [],
   "source": [
    "start_y = 2012\n",
    "end_y = 2023\n",
    "split_y = 2017"
   ],
   "metadata": {
    "collapsed": false
   }
  },
  {
   "cell_type": "code",
   "execution_count": 3,
   "outputs": [],
   "source": [
    "data = pd.read_csv('./data/master_data.csv')\n",
    "data = data.loc[(data['fyear'] >= start_y) & (data['fyear'] <= end_y)]\n",
    "data = data.dropna(subset=['exp_lag', 'exp', 'exp_lead', 'earn'])"
   ],
   "metadata": {
    "collapsed": false
   }
  },
  {
   "cell_type": "code",
   "execution_count": 4,
   "outputs": [],
   "source": [
    "def t_test(before, after, coef):\n",
    "    t_stat, p_value = ttest_ind(before[coef], after[coef])\n",
    "    return t_stat, p_value"
   ],
   "metadata": {
    "collapsed": false
   }
  },
  {
   "cell_type": "code",
   "execution_count": 5,
   "outputs": [],
   "source": [
    "# Panel A: Cross sectional regressions\n",
    "results = pd.DataFrame(columns=['exp_lag', 'exp_cur', 'exp_lead'])\n",
    "\n",
    "\n",
    "for year, group in data.groupby('fyear'):\n",
    "    X = group[['exp_lag', 'exp', 'exp_lead']]\n",
    "    X = sm.add_constant(X)\n",
    "    y = group['rev']\n",
    "\n",
    "    model = sm.OLS(y, X).fit()\n",
    "    coef = model.params\n",
    "\n",
    "    result = pd.DataFrame(\n",
    "        {\n",
    "            'exp_lag': coef['exp_lag'],\n",
    "            'exp_cur': coef['exp'],\n",
    "            'exp_lead': coef['exp_lead']\n",
    "        },\n",
    "        index=[year]\n",
    "    )\n",
    "    results = pd.concat([results, result])\n",
    "\n",
    "\n",
    "results = results.reset_index(names='year')"
   ],
   "metadata": {
    "collapsed": false
   }
  },
  {
   "cell_type": "code",
   "execution_count": 6,
   "outputs": [
    {
     "data": {
      "text/plain": "              exp_lag   exp_cur  exp_lead\n0            0.079218  0.876390  0.065090\n1            0.109053  0.944703 -0.028368\ndifference   0.029835  0.068313 -0.093458\nt-statistic -0.664919 -0.802450  1.818835\np-value      0.522774  0.442966  0.102292",
      "text/html": "<div>\n<style scoped>\n    .dataframe tbody tr th:only-of-type {\n        vertical-align: middle;\n    }\n\n    .dataframe tbody tr th {\n        vertical-align: top;\n    }\n\n    .dataframe thead th {\n        text-align: right;\n    }\n</style>\n<table border=\"1\" class=\"dataframe\">\n  <thead>\n    <tr style=\"text-align: right;\">\n      <th></th>\n      <th>exp_lag</th>\n      <th>exp_cur</th>\n      <th>exp_lead</th>\n    </tr>\n  </thead>\n  <tbody>\n    <tr>\n      <th>0</th>\n      <td>0.079218</td>\n      <td>0.876390</td>\n      <td>0.065090</td>\n    </tr>\n    <tr>\n      <th>1</th>\n      <td>0.109053</td>\n      <td>0.944703</td>\n      <td>-0.028368</td>\n    </tr>\n    <tr>\n      <th>difference</th>\n      <td>0.029835</td>\n      <td>0.068313</td>\n      <td>-0.093458</td>\n    </tr>\n    <tr>\n      <th>t-statistic</th>\n      <td>-0.664919</td>\n      <td>-0.802450</td>\n      <td>1.818835</td>\n    </tr>\n    <tr>\n      <th>p-value</th>\n      <td>0.522774</td>\n      <td>0.442966</td>\n      <td>0.102292</td>\n    </tr>\n  </tbody>\n</table>\n</div>"
     },
     "execution_count": 6,
     "metadata": {},
     "output_type": "execute_result"
    }
   ],
   "source": [
    "panel_a = pd.DataFrame(columns=['exp_lag', 'exp_cur', 'exp_lead'])\n",
    "panel_a = pd.concat([panel_a, results.loc[results['year'] <= split_y, ['exp_lag', 'exp_cur', 'exp_lead']].mean().to_frame().T], ignore_index=True)\n",
    "panel_a = pd.concat([panel_a, results.loc[results['year'] >= split_y + 1, ['exp_lag', 'exp_cur', 'exp_lead']].mean().to_frame().T], ignore_index=True)\n",
    "panel_a.loc['difference'] = panel_a.iloc[1] - panel_a.iloc[0]\n",
    "panel_a.loc['t-statistic'] = np.nan\n",
    "panel_a.loc['p-value'] = np.nan\n",
    "\n",
    "\n",
    "for coef in ['exp_lag', 'exp_cur', 'exp_lead']:\n",
    "    t, p = t_test(results.loc[results['year'] <= split_y], results.loc[results['year'] >= split_y + 1], coef)\n",
    "    panel_a.loc['t-statistic', coef] = t\n",
    "    panel_a.loc['p-value', coef] = p\n",
    "\n",
    "panel_a"
   ],
   "metadata": {
    "collapsed": false
   }
  },
  {
   "cell_type": "code",
   "execution_count": 7,
   "outputs": [],
   "source": [
    "# Panel B: Earn Volat and Persistence\n",
    "persistence = pd.DataFrame(columns=['persistence'])\n",
    "\n",
    "\n",
    "for year, group in data.groupby('fyear'):\n",
    "    X = group[['earn_lag']]\n",
    "    X = sm.add_constant(X)\n",
    "    y = group['earn']\n",
    "\n",
    "    model = sm.OLS(y, X).fit()\n",
    "    coef = model.params\n",
    "\n",
    "    result = pd.DataFrame(\n",
    "        {\n",
    "            'persistence': coef['earn_lag']\n",
    "        },\n",
    "        index=[year]\n",
    "    )\n",
    "    persistence = pd.concat([persistence, result])\n",
    "\n",
    "\n",
    "persistence = persistence.reset_index(names='year')\n",
    "volatility = data.groupby('fyear')['earn_5yr_volat'].mean().reset_index()"
   ],
   "metadata": {
    "collapsed": false
   }
  },
  {
   "cell_type": "code",
   "execution_count": 8,
   "outputs": [
    {
     "data": {
      "text/plain": "            volatility persistence\n0             0.025193    0.700139\n1             0.028477    0.684163\ndifference    0.003284   -0.015976\nt-statistic   -1.55093     0.28762\np-value       0.155332    0.780151",
      "text/html": "<div>\n<style scoped>\n    .dataframe tbody tr th:only-of-type {\n        vertical-align: middle;\n    }\n\n    .dataframe tbody tr th {\n        vertical-align: top;\n    }\n\n    .dataframe thead th {\n        text-align: right;\n    }\n</style>\n<table border=\"1\" class=\"dataframe\">\n  <thead>\n    <tr style=\"text-align: right;\">\n      <th></th>\n      <th>volatility</th>\n      <th>persistence</th>\n    </tr>\n  </thead>\n  <tbody>\n    <tr>\n      <th>0</th>\n      <td>0.025193</td>\n      <td>0.700139</td>\n    </tr>\n    <tr>\n      <th>1</th>\n      <td>0.028477</td>\n      <td>0.684163</td>\n    </tr>\n    <tr>\n      <th>difference</th>\n      <td>0.003284</td>\n      <td>-0.015976</td>\n    </tr>\n    <tr>\n      <th>t-statistic</th>\n      <td>-1.55093</td>\n      <td>0.28762</td>\n    </tr>\n    <tr>\n      <th>p-value</th>\n      <td>0.155332</td>\n      <td>0.780151</td>\n    </tr>\n  </tbody>\n</table>\n</div>"
     },
     "execution_count": 8,
     "metadata": {},
     "output_type": "execute_result"
    }
   ],
   "source": [
    "panel_b = pd.DataFrame(columns=['volatility', 'persistence'])\n",
    "panel_b.loc[0, 'volatility'] = volatility.loc[volatility['fyear'] <= split_y, 'earn_5yr_volat'].mean()\n",
    "panel_b.loc[1, 'volatility'] = volatility.loc[volatility['fyear'] >= split_y + 1, 'earn_5yr_volat'].mean()\n",
    "panel_b.loc[0, 'persistence'] = persistence.loc[persistence['year'] <= split_y, 'persistence'].mean()\n",
    "panel_b.loc[1, 'persistence'] = persistence.loc[persistence['year'] >= split_y + 1, 'persistence'].mean()\n",
    "panel_b.loc['difference'] = panel_b.iloc[1] - panel_b.iloc[0]\n",
    "panel_b.loc['t-statistic'] = np.nan\n",
    "panel_b.loc['p-value'] = np.nan\n",
    "panel_b.loc[['t-statistic', 'p-value'], 'volatility'] = t_test(volatility.loc[volatility['fyear'] <= split_y], volatility.loc[volatility['fyear'] >= split_y + 1], 'earn_5yr_volat')\n",
    "panel_b.loc[['t-statistic', 'p-value'], 'persistence'] = t_test(persistence.loc[persistence['year'] <= split_y], persistence.loc[persistence['year'] >= split_y + 1], 'persistence')\n",
    "\n",
    "panel_b"
   ],
   "metadata": {
    "collapsed": false
   }
  }
 ],
 "metadata": {
  "kernelspec": {
   "display_name": "Python 3",
   "language": "python",
   "name": "python3"
  },
  "language_info": {
   "codemirror_mode": {
    "name": "ipython",
    "version": 2
   },
   "file_extension": ".py",
   "mimetype": "text/x-python",
   "name": "python",
   "nbconvert_exporter": "python",
   "pygments_lexer": "ipython2",
   "version": "2.7.6"
  }
 },
 "nbformat": 4,
 "nbformat_minor": 0
}
