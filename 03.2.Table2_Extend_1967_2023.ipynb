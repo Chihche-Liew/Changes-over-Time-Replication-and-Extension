{
 "cells": [
  {
   "cell_type": "code",
   "execution_count": 8,
   "metadata": {
    "collapsed": true
   },
   "outputs": [],
   "source": [
    "import warnings\n",
    "import pandas as pd\n",
    "import numpy as np\n",
    "import statsmodels.api as sm\n",
    "warnings.filterwarnings('ignore')"
   ]
  },
  {
   "cell_type": "code",
   "execution_count": 9,
   "outputs": [],
   "source": [
    "start_y = 1967\n",
    "end_y = 2023\n",
    "split_y = 1995"
   ],
   "metadata": {
    "collapsed": false
   }
  },
  {
   "cell_type": "code",
   "execution_count": 10,
   "outputs": [],
   "source": [
    "data = pd.read_csv('./data/master_data.csv')\n",
    "data = data.loc[(data['fyear'] >= start_y) & (data['fyear'] <= end_y)]\n",
    "data = data.dropna(subset=['rev', 'exp_lag', 'exp_lead', 'cogs', 'sga', 'depr', 'tax', 'si', 'oth'])"
   ],
   "metadata": {
    "collapsed": false
   }
  },
  {
   "cell_type": "code",
   "execution_count": 11,
   "outputs": [],
   "source": [
    "# Coefficients\n",
    "results = pd.DataFrame(columns=['cogs', 'sga', 'depr', 'tax', 'si', 'oth'])\n",
    "\n",
    "\n",
    "for year, group in data.groupby('fyear'):\n",
    "    X = group[['exp_lag', 'cogs', 'sga', 'depr', 'tax', 'si', 'oth', 'exp_lead']]\n",
    "    X = sm.add_constant(X)\n",
    "    y = group['rev']\n",
    "\n",
    "    model = sm.OLS(y, X).fit()\n",
    "    coef = model.params\n",
    "\n",
    "    result = pd.DataFrame(\n",
    "        {\n",
    "            'cogs': coef['cogs'],\n",
    "            'sga': coef['sga'],\n",
    "            'depr': coef['depr'],\n",
    "            'tax': coef['tax'],\n",
    "            'si': coef['si'],\n",
    "            'oth': coef['oth']\n",
    "        },\n",
    "        index=[year]\n",
    "    )\n",
    "    results = pd.concat([results, result])\n",
    "\n",
    "\n",
    "results = results.reset_index(names='year')"
   ],
   "metadata": {
    "collapsed": false
   }
  },
  {
   "cell_type": "code",
   "execution_count": 12,
   "outputs": [
    {
     "data": {
      "text/plain": "                cogs       sga      depr       tax        si       oth\n0           0.337226  0.451699  0.522809  1.519892  0.191457  0.324713\n1           0.555570  0.721819  0.819671  2.010124  0.222713  0.256884\ndifference  0.218344  0.270120  0.296862  0.490232  0.031257 -0.067829",
      "text/html": "<div>\n<style scoped>\n    .dataframe tbody tr th:only-of-type {\n        vertical-align: middle;\n    }\n\n    .dataframe tbody tr th {\n        vertical-align: top;\n    }\n\n    .dataframe thead th {\n        text-align: right;\n    }\n</style>\n<table border=\"1\" class=\"dataframe\">\n  <thead>\n    <tr style=\"text-align: right;\">\n      <th></th>\n      <th>cogs</th>\n      <th>sga</th>\n      <th>depr</th>\n      <th>tax</th>\n      <th>si</th>\n      <th>oth</th>\n    </tr>\n  </thead>\n  <tbody>\n    <tr>\n      <th>0</th>\n      <td>0.337226</td>\n      <td>0.451699</td>\n      <td>0.522809</td>\n      <td>1.519892</td>\n      <td>0.191457</td>\n      <td>0.324713</td>\n    </tr>\n    <tr>\n      <th>1</th>\n      <td>0.555570</td>\n      <td>0.721819</td>\n      <td>0.819671</td>\n      <td>2.010124</td>\n      <td>0.222713</td>\n      <td>0.256884</td>\n    </tr>\n    <tr>\n      <th>difference</th>\n      <td>0.218344</td>\n      <td>0.270120</td>\n      <td>0.296862</td>\n      <td>0.490232</td>\n      <td>0.031257</td>\n      <td>-0.067829</td>\n    </tr>\n  </tbody>\n</table>\n</div>"
     },
     "execution_count": 12,
     "metadata": {},
     "output_type": "execute_result"
    }
   ],
   "source": [
    "coefficients = pd.DataFrame(columns=['cogs', 'sga', 'depr', 'tax', 'si', 'oth'])\n",
    "coefficients = pd.concat([coefficients, results.loc[results['year'] <= split_y, ['cogs', 'sga', 'depr', 'tax', 'si', 'oth']].mean().to_frame().T], ignore_index=True)\n",
    "coefficients = pd.concat([coefficients, results.loc[results['year'] >= split_y + 1, ['cogs', 'sga', 'depr', 'tax', 'si', 'oth']].mean().to_frame().T], ignore_index=True)\n",
    "coefficients.loc['difference'] = coefficients.iloc[1] - coefficients.iloc[0]\n",
    "\n",
    "coefficients"
   ],
   "metadata": {
    "collapsed": false
   }
  },
  {
   "cell_type": "code",
   "execution_count": 13,
   "outputs": [],
   "source": [
    "weight = []\n",
    "for year, group in data.groupby('fyear'):\n",
    "    exp_var = group['exp'].var(ddof=0)\n",
    "    row = {'fyear': year}\n",
    "    for component in ['cogs', 'sga', 'depr', 'tax', 'si', 'oth']:\n",
    "        cov = group[['exp', component]].cov().iloc[0, 1]\n",
    "        w = cov / exp_var if exp_var != 0 else None\n",
    "        row[component] = w\n",
    "    weight.append(row)\n",
    "\n",
    "weight = pd.DataFrame(weight)\n",
    "weight['total'] = weight[['cogs', 'sga', 'depr', 'tax', 'si', 'oth']].sum(axis=1)\n",
    "weight[['cogs', 'sga', 'depr', 'tax', 'si', 'oth']] = weight[['cogs', 'sga', 'depr', 'tax', 'si', 'oth']].div(weight['total'], axis=0)"
   ],
   "metadata": {
    "collapsed": false
   }
  },
  {
   "cell_type": "code",
   "execution_count": 14,
   "outputs": [
    {
     "data": {
      "text/plain": "                cogs       sga      depr       tax        si       oth\n0           0.854125  0.136216  0.000701  0.005341  0.002854  0.000764\n1           0.842178  0.128876  0.010711  0.009926  0.007074  0.001235\ndifference -0.011947 -0.007340  0.010010  0.004585  0.004220  0.000471",
      "text/html": "<div>\n<style scoped>\n    .dataframe tbody tr th:only-of-type {\n        vertical-align: middle;\n    }\n\n    .dataframe tbody tr th {\n        vertical-align: top;\n    }\n\n    .dataframe thead th {\n        text-align: right;\n    }\n</style>\n<table border=\"1\" class=\"dataframe\">\n  <thead>\n    <tr style=\"text-align: right;\">\n      <th></th>\n      <th>cogs</th>\n      <th>sga</th>\n      <th>depr</th>\n      <th>tax</th>\n      <th>si</th>\n      <th>oth</th>\n    </tr>\n  </thead>\n  <tbody>\n    <tr>\n      <th>0</th>\n      <td>0.854125</td>\n      <td>0.136216</td>\n      <td>0.000701</td>\n      <td>0.005341</td>\n      <td>0.002854</td>\n      <td>0.000764</td>\n    </tr>\n    <tr>\n      <th>1</th>\n      <td>0.842178</td>\n      <td>0.128876</td>\n      <td>0.010711</td>\n      <td>0.009926</td>\n      <td>0.007074</td>\n      <td>0.001235</td>\n    </tr>\n    <tr>\n      <th>difference</th>\n      <td>-0.011947</td>\n      <td>-0.007340</td>\n      <td>0.010010</td>\n      <td>0.004585</td>\n      <td>0.004220</td>\n      <td>0.000471</td>\n    </tr>\n  </tbody>\n</table>\n</div>"
     },
     "execution_count": 14,
     "metadata": {},
     "output_type": "execute_result"
    }
   ],
   "source": [
    "weights = pd.DataFrame(columns=['cogs', 'sga', 'depr', 'tax', 'si', 'oth'])\n",
    "weights = pd.concat([weights, weight.loc[weight['fyear'] <= split_y, ['cogs', 'sga', 'depr', 'tax', 'si', 'oth']].mean().to_frame().T], ignore_index=True)\n",
    "weights = pd.concat([weights, weight.loc[weight['fyear'] >= split_y + 1, ['cogs', 'sga', 'depr', 'tax', 'si', 'oth']].mean().to_frame().T], ignore_index=True)\n",
    "weights.loc['difference'] = weights.iloc[1] - weights.iloc[0]\n",
    "\n",
    "weights"
   ],
   "metadata": {
    "collapsed": false
   }
  }
 ],
 "metadata": {
  "kernelspec": {
   "display_name": "Python 3",
   "language": "python",
   "name": "python3"
  },
  "language_info": {
   "codemirror_mode": {
    "name": "ipython",
    "version": 2
   },
   "file_extension": ".py",
   "mimetype": "text/x-python",
   "name": "python",
   "nbconvert_exporter": "python",
   "pygments_lexer": "ipython2",
   "version": "2.7.6"
  }
 },
 "nbformat": 4,
 "nbformat_minor": 0
}
