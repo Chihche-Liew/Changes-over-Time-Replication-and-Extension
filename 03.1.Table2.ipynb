{
 "cells": [
  {
   "cell_type": "code",
   "execution_count": 1,
   "metadata": {
    "collapsed": true
   },
   "outputs": [],
   "source": [
    "import warnings\n",
    "import pandas as pd\n",
    "import numpy as np\n",
    "import statsmodels.api as sm\n",
    "warnings.filterwarnings('ignore')"
   ]
  },
  {
   "cell_type": "code",
   "execution_count": 2,
   "outputs": [],
   "source": [
    "start_y = 1967\n",
    "end_y = 2005\n",
    "split_y = 1985"
   ],
   "metadata": {
    "collapsed": false
   }
  },
  {
   "cell_type": "code",
   "execution_count": 3,
   "outputs": [],
   "source": [
    "data = pd.read_csv('./data/master_data.csv')\n",
    "data = data.loc[(data['fyear'] >= start_y) & (data['fyear'] <= end_y)]\n",
    "data = data.dropna(subset=['rev', 'exp_lag', 'exp_lead', 'cogs', 'sga', 'depr', 'tax', 'si', 'oth'])"
   ],
   "metadata": {
    "collapsed": false
   }
  },
  {
   "cell_type": "code",
   "execution_count": 4,
   "outputs": [],
   "source": [
    "# Coefficients\n",
    "results = pd.DataFrame(columns=['cogs', 'sga', 'depr', 'tax', 'si', 'oth'])\n",
    "\n",
    "\n",
    "for year, group in data.groupby('fyear'):\n",
    "    X = group[['exp_lag', 'cogs', 'sga', 'depr', 'tax', 'si', 'oth', 'exp_lead']]\n",
    "    X = sm.add_constant(X)\n",
    "    y = group['rev']\n",
    "\n",
    "    model = sm.OLS(y, X).fit()\n",
    "    coef = model.params\n",
    "\n",
    "    result = pd.DataFrame(\n",
    "        {\n",
    "            'cogs': coef['cogs'],\n",
    "            'sga': coef['sga'],\n",
    "            'depr': coef['depr'],\n",
    "            'tax': coef['tax'],\n",
    "            'si': coef['si'],\n",
    "            'oth': coef['oth']\n",
    "        },\n",
    "        index=[year]\n",
    "    )\n",
    "    results = pd.concat([results, result])\n",
    "\n",
    "\n",
    "results = results.reset_index(names='year')"
   ],
   "metadata": {
    "collapsed": false
   }
  },
  {
   "cell_type": "code",
   "execution_count": 5,
   "outputs": [
    {
     "data": {
      "text/plain": "                cogs       sga      depr       tax        si       oth\n0           0.324612  0.444228  0.556301  1.289574  0.076302  0.330598\n1           0.531894  0.623009  0.698164  2.071183  0.391964  0.395580\ndifference  0.207282  0.178782  0.141863  0.781609  0.315662  0.064982",
      "text/html": "<div>\n<style scoped>\n    .dataframe tbody tr th:only-of-type {\n        vertical-align: middle;\n    }\n\n    .dataframe tbody tr th {\n        vertical-align: top;\n    }\n\n    .dataframe thead th {\n        text-align: right;\n    }\n</style>\n<table border=\"1\" class=\"dataframe\">\n  <thead>\n    <tr style=\"text-align: right;\">\n      <th></th>\n      <th>cogs</th>\n      <th>sga</th>\n      <th>depr</th>\n      <th>tax</th>\n      <th>si</th>\n      <th>oth</th>\n    </tr>\n  </thead>\n  <tbody>\n    <tr>\n      <th>0</th>\n      <td>0.324612</td>\n      <td>0.444228</td>\n      <td>0.556301</td>\n      <td>1.289574</td>\n      <td>0.076302</td>\n      <td>0.330598</td>\n    </tr>\n    <tr>\n      <th>1</th>\n      <td>0.531894</td>\n      <td>0.623009</td>\n      <td>0.698164</td>\n      <td>2.071183</td>\n      <td>0.391964</td>\n      <td>0.395580</td>\n    </tr>\n    <tr>\n      <th>difference</th>\n      <td>0.207282</td>\n      <td>0.178782</td>\n      <td>0.141863</td>\n      <td>0.781609</td>\n      <td>0.315662</td>\n      <td>0.064982</td>\n    </tr>\n  </tbody>\n</table>\n</div>"
     },
     "execution_count": 5,
     "metadata": {},
     "output_type": "execute_result"
    }
   ],
   "source": [
    "coefficients = pd.DataFrame(columns=['cogs', 'sga', 'depr', 'tax', 'si', 'oth'])\n",
    "coefficients = pd.concat([coefficients, results.loc[results['year'] <= split_y, ['cogs', 'sga', 'depr', 'tax', 'si', 'oth']].mean().to_frame().T], ignore_index=True)\n",
    "coefficients = pd.concat([coefficients, results.loc[results['year'] >= split_y + 1, ['cogs', 'sga', 'depr', 'tax', 'si', 'oth']].mean().to_frame().T], ignore_index=True)\n",
    "coefficients.loc['difference'] = coefficients.iloc[1] - coefficients.iloc[0]\n",
    "\n",
    "coefficients"
   ],
   "metadata": {
    "collapsed": false
   }
  },
  {
   "cell_type": "code",
   "execution_count": 6,
   "outputs": [],
   "source": [
    "weight = []\n",
    "for year, group in data.groupby('fyear'):\n",
    "    exp_var = group['exp'].var(ddof=1)\n",
    "    row = {'fyear': year}\n",
    "    total_weight = 0\n",
    "    for component in ['cogs', 'sga', 'depr', 'tax', 'si', 'oth']:\n",
    "        cov = group[['exp', component]].cov().iloc[0, 1]\n",
    "        w = cov / exp_var if exp_var != 0 else None\n",
    "        row[component] = w\n",
    "\n",
    "    weight.append(row)\n",
    "\n",
    "weight = pd.DataFrame(weight)\n",
    "weight['total'] = weight[['cogs', 'sga', 'depr', 'tax', 'si', 'oth']].sum(axis=1)\n",
    "weight[['cogs', 'sga', 'depr', 'tax', 'si', 'oth']] = weight[['cogs', 'sga', 'depr', 'tax', 'si', 'oth']].div(weight['total'], axis=0)"
   ],
   "metadata": {
    "collapsed": false
   }
  },
  {
   "cell_type": "code",
   "execution_count": 7,
   "outputs": [
    {
     "data": {
      "text/plain": "                cogs       sga      depr       tax        si       oth\n0           0.860028  0.134761 -0.000958  0.005311  0.000700  0.000158\n1           0.828359  0.147279  0.008029  0.007647  0.006741  0.001945\ndifference -0.031669  0.012518  0.008987  0.002336  0.006041  0.001787",
      "text/html": "<div>\n<style scoped>\n    .dataframe tbody tr th:only-of-type {\n        vertical-align: middle;\n    }\n\n    .dataframe tbody tr th {\n        vertical-align: top;\n    }\n\n    .dataframe thead th {\n        text-align: right;\n    }\n</style>\n<table border=\"1\" class=\"dataframe\">\n  <thead>\n    <tr style=\"text-align: right;\">\n      <th></th>\n      <th>cogs</th>\n      <th>sga</th>\n      <th>depr</th>\n      <th>tax</th>\n      <th>si</th>\n      <th>oth</th>\n    </tr>\n  </thead>\n  <tbody>\n    <tr>\n      <th>0</th>\n      <td>0.860028</td>\n      <td>0.134761</td>\n      <td>-0.000958</td>\n      <td>0.005311</td>\n      <td>0.000700</td>\n      <td>0.000158</td>\n    </tr>\n    <tr>\n      <th>1</th>\n      <td>0.828359</td>\n      <td>0.147279</td>\n      <td>0.008029</td>\n      <td>0.007647</td>\n      <td>0.006741</td>\n      <td>0.001945</td>\n    </tr>\n    <tr>\n      <th>difference</th>\n      <td>-0.031669</td>\n      <td>0.012518</td>\n      <td>0.008987</td>\n      <td>0.002336</td>\n      <td>0.006041</td>\n      <td>0.001787</td>\n    </tr>\n  </tbody>\n</table>\n</div>"
     },
     "execution_count": 7,
     "metadata": {},
     "output_type": "execute_result"
    }
   ],
   "source": [
    "weights = pd.DataFrame(columns=['cogs', 'sga', 'depr', 'tax', 'si', 'oth'])\n",
    "weights = pd.concat([weights, weight.loc[weight['fyear'] <= split_y, ['cogs', 'sga', 'depr', 'tax', 'si', 'oth']].mean().to_frame().T], ignore_index=True)\n",
    "weights = pd.concat([weights, weight.loc[weight['fyear'] >= split_y + 1, ['cogs', 'sga', 'depr', 'tax', 'si', 'oth']].mean().to_frame().T], ignore_index=True)\n",
    "weights.loc['difference'] = weights.iloc[1] - weights.iloc[0]\n",
    "\n",
    "weights"
   ],
   "metadata": {
    "collapsed": false
   }
  }
 ],
 "metadata": {
  "kernelspec": {
   "display_name": "Python 3",
   "language": "python",
   "name": "python3"
  },
  "language_info": {
   "codemirror_mode": {
    "name": "ipython",
    "version": 2
   },
   "file_extension": ".py",
   "mimetype": "text/x-python",
   "name": "python",
   "nbconvert_exporter": "python",
   "pygments_lexer": "ipython2",
   "version": "2.7.6"
  }
 },
 "nbformat": 4,
 "nbformat_minor": 0
}
